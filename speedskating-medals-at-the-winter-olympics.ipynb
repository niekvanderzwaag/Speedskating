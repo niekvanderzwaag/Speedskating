{
 "cells": [
  {
   "cell_type": "markdown",
   "id": "e3bc197b",
   "metadata": {
    "papermill": {
     "duration": 0.018623,
     "end_time": "2021-12-21T09:57:48.754008",
     "exception": false,
     "start_time": "2021-12-21T09:57:48.735385",
     "status": "completed"
    },
    "tags": []
   },
   "source": [
    "Cleaning dataset to form new dataset of all medals for speedskating at the Winter Olympics"
   ]
  },
  {
   "cell_type": "code",
   "execution_count": 1,
   "id": "76bda5ba",
   "metadata": {
    "_cell_guid": "b1076dfc-b9ad-4769-8c92-a6c4dae69d19",
    "_uuid": "8f2839f25d086af736a60e9eeb907d3b93b6e0e5",
    "execution": {
     "iopub.execute_input": "2021-12-21T09:57:48.805107Z",
     "iopub.status.busy": "2021-12-21T09:57:48.803421Z",
     "iopub.status.idle": "2021-12-21T09:57:48.813874Z",
     "shell.execute_reply": "2021-12-21T09:57:48.814643Z",
     "shell.execute_reply.started": "2021-12-21T09:54:43.234668Z"
    },
    "papermill": {
     "duration": 0.035968,
     "end_time": "2021-12-21T09:57:48.815060",
     "exception": false,
     "start_time": "2021-12-21T09:57:48.779092",
     "status": "completed"
    },
    "tags": []
   },
   "outputs": [],
   "source": [
    "import pandas as pd\n",
    "import numpy as np"
   ]
  },
  {
   "cell_type": "code",
   "execution_count": 2,
   "id": "a4d2b932",
   "metadata": {
    "execution": {
     "iopub.execute_input": "2021-12-21T09:57:48.863530Z",
     "iopub.status.busy": "2021-12-21T09:57:48.862773Z",
     "iopub.status.idle": "2021-12-21T09:57:49.601652Z",
     "shell.execute_reply": "2021-12-21T09:57:49.601094Z",
     "shell.execute_reply.started": "2021-12-21T09:54:43.240088Z"
    },
    "papermill": {
     "duration": 0.765121,
     "end_time": "2021-12-21T09:57:49.601787",
     "exception": false,
     "start_time": "2021-12-21T09:57:48.836666",
     "status": "completed"
    },
    "tags": []
   },
   "outputs": [],
   "source": [
    "medals = pd.read_csv('../input/olympic-games-medals-19862018/olympic_results.csv')"
   ]
  },
  {
   "cell_type": "code",
   "execution_count": 3,
   "id": "5e04e6ee",
   "metadata": {
    "execution": {
     "iopub.execute_input": "2021-12-21T09:57:49.830607Z",
     "iopub.status.busy": "2021-12-21T09:57:49.671832Z",
     "iopub.status.idle": "2021-12-21T09:57:49.857247Z",
     "shell.execute_reply": "2021-12-21T09:57:49.856664Z",
     "shell.execute_reply.started": "2021-12-21T09:54:44.007005Z"
    },
    "jupyter": {
     "source_hidden": true
    },
    "papermill": {
     "duration": 0.238127,
     "end_time": "2021-12-21T09:57:49.857394",
     "exception": false,
     "start_time": "2021-12-21T09:57:49.619267",
     "status": "completed"
    },
    "tags": []
   },
   "outputs": [],
   "source": [
    "countries = [\n",
    "{'timezones': ['Europe/Andorra'], 'code': 'AD', 'continent': 'Europe', 'name': 'Andorra', 'capital': 'Andorra la Vella'},\n",
    "{'timezones': ['Asia/Kabul'], 'code': 'AF', 'continent': 'Asia', 'name': 'Afghanistan', 'capital': 'Kabul'},\n",
    "{'timezones': ['America/Antigua'], 'code': 'AG', 'continent': 'North America', 'name': 'Antigua and Barbuda', 'capital': \"St. John's\"},\n",
    "{'timezones': ['Europe/Tirane'], 'code': 'AL', 'continent': 'Europe', 'name': 'Albania', 'capital': 'Tirana'},\n",
    "{'timezones': ['Asia/Yerevan'], 'code': 'AM', 'continent': 'Asia', 'name': 'Armenia', 'capital': 'Yerevan'},\n",
    "{'timezones': ['Africa/Luanda'], 'code': 'AO', 'continent': 'Africa', 'name': 'Angola', 'capital': 'Luanda'},\n",
    "{'timezones': ['America/Argentina/Buenos_Aires', 'America/Argentina/Cordoba', 'America/Argentina/Jujuy', 'America/Argentina/Tucuman', 'America/Argentina/Catamarca', 'America/Argentina/La_Rioja', 'America/Argentina/San_Juan', 'America/Argentina/Mendoza', 'America/Argentina/Rio_Gallegos', 'America/Argentina/Ushuaia'], 'code': 'AR', 'continent': 'South America', 'name': 'Argentina', 'capital': 'Buenos Aires'},\n",
    "{'timezones': ['Europe/Vienna'], 'code': 'AT', 'continent': 'Europe', 'name': 'Austria', 'capital': 'Vienna'},\n",
    "{'timezones': ['Australia/Lord_Howe', 'Australia/Hobart', 'Australia/Currie', 'Australia/Melbourne', 'Australia/Sydney', 'Australia/Broken_Hill', 'Australia/Brisbane', 'Australia/Lindeman', 'Australia/Adelaide', 'Australia/Darwin', 'Australia/Perth'], 'code': 'AU', 'continent': 'Oceania', 'name': 'Australia', 'capital': 'Canberra'},\n",
    "{'timezones': ['Asia/Baku'], 'code': 'AZ', 'continent': 'Asia', 'name': 'Azerbaijan', 'capital': 'Baku'},\n",
    "{'timezones': ['America/Barbados'], 'code': 'BB', 'continent': 'North America', 'name': 'Barbados', 'capital': 'Bridgetown'},\n",
    "{'timezones': ['Asia/Dhaka'], 'code': 'BD', 'continent': 'Asia', 'name': 'Bangladesh', 'capital': 'Dhaka'},\n",
    "{'timezones': ['Europe/Brussels'], 'code': 'BE', 'continent': 'Europe', 'name': 'Belgium', 'capital': 'Brussels'},\n",
    "{'timezones': ['Africa/Ouagadougou'], 'code': 'BF', 'continent': 'Africa', 'name': 'Burkina Faso', 'capital': 'Ouagadougou'},\n",
    "{'timezones': ['Europe/Sofia'], 'code': 'BG', 'continent': 'Europe', 'name': 'Bulgaria', 'capital': 'Sofia'},\n",
    "{'timezones': ['Asia/Bahrain'], 'code': 'BH', 'continent': 'Asia', 'name': 'Bahrain', 'capital': 'Manama'},\n",
    "{'timezones': ['Africa/Bujumbura'], 'code': 'BI', 'continent': 'Africa', 'name': 'Burundi', 'capital': 'Bujumbura'},\n",
    "{'timezones': ['Africa/Porto-Novo'], 'code': 'BJ', 'continent': 'Africa', 'name': 'Benin', 'capital': 'Porto-Novo'},\n",
    "{'timezones': ['Asia/Brunei'], 'code': 'BN', 'continent': 'Asia', 'name': 'Brunei Darussalam', 'capital': 'Bandar Seri Begawan'},\n",
    "{'timezones': ['America/La_Paz'], 'code': 'BO', 'continent': 'South America', 'name': 'Bolivia', 'capital': 'Sucre'},\n",
    "{'timezones': ['America/Noronha', 'America/Belem', 'America/Fortaleza', 'America/Recife', 'America/Araguaina', 'America/Maceio', 'America/Bahia', 'America/Sao_Paulo', 'America/Campo_Grande', 'America/Cuiaba', 'America/Porto_Velho', 'America/Boa_Vista', 'America/Manaus', 'America/Eirunepe', 'America/Rio_Branco'], 'code': 'BR', 'continent': 'South America', 'name': 'Brazil', 'capital': 'Bras\\xc3\\xadlia'},\n",
    "{'timezones': ['America/Nassau'], 'code': 'BS', 'continent': 'North America', 'name': 'Bahamas', 'capital': 'Nassau'},\n",
    "{'timezones': ['Asia/Thimphu'], 'code': 'BT', 'continent': 'Asia', 'name': 'Bhutan', 'capital': 'Thimphu'},\n",
    "{'timezones': ['Africa/Gaborone'], 'code': 'BW', 'continent': 'Africa', 'name': 'Botswana', 'capital': 'Gaborone'},\n",
    "{'timezones': ['Europe/Minsk'], 'code': 'BY', 'continent': 'Europe', 'name': 'Belarus', 'capital': 'Minsk'},\n",
    "{'timezones': ['America/Belize'], 'code': 'BZ', 'continent': 'North America', 'name': 'Belize', 'capital': 'Belmopan'},\n",
    "{'timezones': ['America/St_Johns', 'America/Halifax', 'America/Glace_Bay', 'America/Moncton', 'America/Goose_Bay', 'America/Blanc-Sablon', 'America/Montreal', 'America/Toronto', 'America/Nipigon', 'America/Thunder_Bay', 'America/Pangnirtung', 'America/Iqaluit', 'America/Atikokan', 'America/Rankin_Inlet', 'America/Winnipeg', 'America/Rainy_River', 'America/Cambridge_Bay', 'America/Regina', 'America/Swift_Current', 'America/Edmonton', 'America/Yellowknife', 'America/Inuvik', 'America/Dawson_Creek', 'America/Vancouver', 'America/Whitehorse', 'America/Dawson'], 'code': 'CA', 'continent': 'North America', 'name': 'Canada', 'capital': 'Ottawa'},\n",
    "{'timezones': ['Africa/Kinshasa', 'Africa/Lubumbashi'], 'code': 'CD', 'continent': 'Africa', 'name': 'Democratic Republic of the Congo', 'capital': 'Kinshasa'},\n",
    "{'timezones': ['Africa/Brazzaville'], 'code': 'CG', 'continent': 'Africa', 'name': 'Republic of the Congo', 'capital': 'Brazzaville'},\n",
    "{'timezones': ['Africa/Abidjan'], 'code': 'CI', 'continent': 'Africa', 'name': \"C\\xc3\\xb4te d'Ivoire\", 'capital': 'Yamoussoukro'},\n",
    "{'timezones': ['America/Santiago', 'Pacific/Easter'], 'code': 'CL', 'continent': 'South America', 'name': 'Chile', 'capital': 'Santiago'},\n",
    "{'timezones': ['Africa/Douala'], 'code': 'CM', 'continent': 'Africa', 'name': 'Cameroon', 'capital': 'Yaound\\xc3\\xa9'},\n",
    "{'timezones': ['Asia/Shanghai', 'Asia/Harbin', 'Asia/Chongqing', 'Asia/Urumqi', 'Asia/Kashgar'], 'code': 'CN', 'continent': 'Asia', 'name': \"People's Republic of China\", 'capital': 'Beijing'},\n",
    "{'timezones': ['America/Bogota'], 'code': 'CO', 'continent': 'South America', 'name': 'Colombia', 'capital': 'Bogot\\xc3\\xa1'},\n",
    "{'timezones': ['America/Costa_Rica'], 'code': 'CR', 'continent': 'North America', 'name': 'Costa Rica', 'capital': 'San Jos\\xc3\\xa9'},\n",
    "{'timezones': ['America/Havana'], 'code': 'CU', 'continent': 'North America', 'name': 'Cuba', 'capital': 'Havana'},\n",
    "{'timezones': ['Atlantic/Cape_Verde'], 'code': 'CV', 'continent': 'Africa', 'name': 'Cape Verde', 'capital': 'Praia'},\n",
    "{'timezones': ['Asia/Nicosia'], 'code': 'CY', 'continent': 'Asia', 'name': 'Cyprus', 'capital': 'Nicosia'},\n",
    "{'timezones': ['Europe/Prague'], 'code': 'CZ', 'continent': 'Europe', 'name': 'Czech Republic', 'capital': 'Prague'},\n",
    "{'timezones': ['Europe/Berlin'], 'code': 'DE', 'continent': 'Europe', 'name': 'Germany', 'capital': 'Berlin'},\n",
    "{'timezones': ['Africa/Djibouti'], 'code': 'DJ', 'continent': 'Africa', 'name': 'Djibouti', 'capital': 'Djibouti City'},\n",
    "{'timezones': ['Europe/Copenhagen'], 'code': 'DK', 'continent': 'Europe', 'name': 'Denmark', 'capital': 'Copenhagen'},\n",
    "{'timezones': ['America/Dominica'], 'code': 'DM', 'continent': 'North America', 'name': 'Dominica', 'capital': 'Roseau'},\n",
    "{'timezones': ['America/Santo_Domingo'], 'code': 'DO', 'continent': 'North America', 'name': 'Dominican Republic', 'capital': 'Santo Domingo'},\n",
    "{'timezones': ['America/Guayaquil', 'Pacific/Galapagos'], 'code': 'EC', 'continent': 'South America', 'name': 'Ecuador', 'capital': 'Quito'},\n",
    "{'timezones': ['Europe/Tallinn'], 'code': 'EE', 'continent': 'Europe', 'name': 'Estonia', 'capital': 'Tallinn'},\n",
    "{'timezones': ['Africa/Cairo'], 'code': 'EG', 'continent': 'Africa', 'name': 'Egypt', 'capital': 'Cairo'},\n",
    "{'timezones': ['Africa/Asmera'], 'code': 'ER', 'continent': 'Africa', 'name': 'Eritrea', 'capital': 'Asmara'},\n",
    "{'timezones': ['Africa/Addis_Ababa'], 'code': 'ET', 'continent': 'Africa', 'name': 'Ethiopia', 'capital': 'Addis Ababa'},\n",
    "{'timezones': ['Europe/Helsinki'], 'code': 'FI', 'continent': 'Europe', 'name': 'Finland', 'capital': 'Helsinki'},\n",
    "{'timezones': ['Pacific/Fiji'], 'code': 'FJ', 'continent': 'Oceania', 'name': 'Fiji', 'capital': 'Suva'},\n",
    "{'timezones': ['Europe/Paris'], 'code': 'FR', 'continent': 'Europe', 'name': 'France', 'capital': 'Paris'},\n",
    "{'timezones': ['Africa/Libreville'], 'code': 'GA', 'continent': 'Africa', 'name': 'Gabon', 'capital': 'Libreville'},\n",
    "{'timezones': ['Asia/Tbilisi'], 'code': 'GE', 'continent': 'Asia', 'name': 'Georgia', 'capital': 'Tbilisi'},\n",
    "{'timezones': ['Africa/Accra'], 'code': 'GH', 'continent': 'Africa', 'name': 'Ghana', 'capital': 'Accra'},\n",
    "{'timezones': ['Africa/Banjul'], 'code': 'GM', 'continent': 'Africa', 'name': 'The Gambia', 'capital': 'Banjul'},\n",
    "{'timezones': ['Africa/Conakry'], 'code': 'GN', 'continent': 'Africa', 'name': 'Guinea', 'capital': 'Conakry'},\n",
    "{'timezones': ['Europe/Athens'], 'code': 'GR', 'continent': 'Europe', 'name': 'Greece', 'capital': 'Athens'},\n",
    "{'timezones': ['America/Guatemala'], 'code': 'GT', 'continent': 'North America', 'name': 'Guatemala', 'capital': 'Guatemala City'},\n",
    "{'timezones': ['America/Guatemala'], 'code': 'GT', 'continent': 'North America', 'name': 'Haiti', 'capital': 'Port-au-Prince'},\n",
    "{'timezones': ['Africa/Bissau'], 'code': 'GW', 'continent': 'Africa', 'name': 'Guinea-Bissau', 'capital': 'Bissau'},\n",
    "{'timezones': ['America/Guyana'], 'code': 'GY', 'continent': 'South America', 'name': 'Guyana', 'capital': 'Georgetown'},\n",
    "{'timezones': ['America/Tegucigalpa'], 'code': 'HN', 'continent': 'North America', 'name': 'Honduras', 'capital': 'Tegucigalpa'},\n",
    "{'timezones': ['Europe/Budapest'], 'code': 'HU', 'continent': 'Europe', 'name': 'Hungary', 'capital': 'Budapest'},\n",
    "{'timezones': ['Asia/Jakarta', 'Asia/Pontianak', 'Asia/Makassar', 'Asia/Jayapura'], 'code': 'ID', 'continent': 'Asia', 'name': 'Indonesia', 'capital': 'Jakarta'},\n",
    "{'timezones': ['Europe/Dublin'], 'code': 'IE', 'continent': 'Europe', 'name': 'Republic of Ireland', 'capital': 'Dublin'},\n",
    "{'timezones': ['Asia/Jerusalem'], 'code': 'IL', 'continent': 'Asia', 'name': 'Israel', 'capital': 'Jerusalem'},\n",
    "{'timezones': ['Asia/Calcutta'], 'code': 'IN', 'continent': 'Asia', 'name': 'India', 'capital': 'New Delhi'},\n",
    "{'timezones': ['Asia/Baghdad'], 'code': 'IQ', 'continent': 'Asia', 'name': 'Iraq', 'capital': 'Baghdad'},\n",
    "{'timezones': ['Asia/Tehran'], 'code': 'IR', 'continent': 'Asia', 'name': 'Iran', 'capital': 'Tehran'},\n",
    "{'timezones': ['Atlantic/Reykjavik'], 'code': 'IS', 'continent': 'Europe', 'name': 'Iceland', 'capital': 'Reykjav\\xc3\\xadk'},\n",
    "{'timezones': ['Europe/Rome'], 'code': 'IT', 'continent': 'Europe', 'name': 'Italy', 'capital': 'Rome'},\n",
    "{'timezones': ['America/Jamaica'], 'code': 'JM', 'continent': 'North America', 'name': 'Jamaica', 'capital': 'Kingston'},\n",
    "{'timezones': ['Asia/Amman'], 'code': 'JO', 'continent': 'Asia', 'name': 'Jordan', 'capital': 'Amman'},\n",
    "{'timezones': ['Asia/Tokyo'], 'code': 'JP', 'continent': 'Asia', 'name': 'Japan', 'capital': 'Tokyo'},\n",
    "{'timezones': ['Africa/Nairobi'], 'code': 'KE', 'continent': 'Africa', 'name': 'Kenya', 'capital': 'Nairobi'},\n",
    "{'timezones': ['Asia/Bishkek'], 'code': 'KG', 'continent': 'Asia', 'name': 'Kyrgyzstan', 'capital': 'Bishkek'},\n",
    "{'timezones': ['Pacific/Tarawa', 'Pacific/Enderbury', 'Pacific/Kiritimati'], 'code': 'KI', 'continent': 'Oceania', 'name': 'Kiribati', 'capital': 'Tarawa'},\n",
    "{'timezones': ['Asia/Pyongyang'], 'code': 'KP', 'continent': 'Asia', 'name': 'North Korea', 'capital': 'Pyongyang'},\n",
    "{'timezones': ['Asia/Seoul'], 'code': 'KR', 'continent': 'Asia', 'name': 'South Korea', 'capital': 'Seoul'},\n",
    "{'timezones': ['Asia/Kuwait'], 'code': 'KW', 'continent': 'Asia', 'name': 'Kuwait', 'capital': 'Kuwait City'},\n",
    "{'timezones': ['Asia/Beirut'], 'code': 'LB', 'continent': 'Asia', 'name': 'Lebanon', 'capital': 'Beirut'},\n",
    "{'timezones': ['Europe/Vaduz'], 'code': 'LI', 'continent': 'Europe', 'name': 'Liechtenstein', 'capital': 'Vaduz'},\n",
    "{'timezones': ['Africa/Monrovia'], 'code': 'LR', 'continent': 'Africa', 'name': 'Liberia', 'capital': 'Monrovia'},\n",
    "{'timezones': ['Africa/Maseru'], 'code': 'LS', 'continent': 'Africa', 'name': 'Lesotho', 'capital': 'Maseru'},\n",
    "{'timezones': ['Europe/Vilnius'], 'code': 'LT', 'continent': 'Europe', 'name': 'Lithuania', 'capital': 'Vilnius'},\n",
    "{'timezones': ['Europe/Luxembourg'], 'code': 'LU', 'continent': 'Europe', 'name': 'Luxembourg', 'capital': 'Luxembourg City'},\n",
    "{'timezones': ['Europe/Riga'], 'code': 'LV', 'continent': 'Europe', 'name': 'Latvia', 'capital': 'Riga'},\n",
    "{'timezones': ['Africa/Tripoli'], 'code': 'LY', 'continent': 'Africa', 'name': 'Libya', 'capital': 'Tripoli'},\n",
    "{'timezones': ['Indian/Antananarivo'], 'code': 'MG', 'continent': 'Africa', 'name': 'Madagascar', 'capital': 'Antananarivo'},\n",
    "{'timezones': ['Pacific/Majuro', 'Pacific/Kwajalein'], 'code': 'MH', 'continent': 'Oceania', 'name': 'Marshall Islands', 'capital': 'Majuro'},\n",
    "{'timezones': ['Europe/Skopje'], 'code': 'MK', 'continent': 'Europe', 'name': 'Macedonia', 'capital': 'Skopje'},\n",
    "{'timezones': ['Africa/Bamako'], 'code': 'ML', 'continent': 'Africa', 'name': 'Mali', 'capital': 'Bamako'},\n",
    "{'timezones': ['Asia/Rangoon'], 'code': 'MM', 'continent': 'Asia', 'name': 'Myanmar', 'capital': 'Naypyidaw'},\n",
    "{'timezones': ['Asia/Ulaanbaatar', 'Asia/Hovd', 'Asia/Choibalsan'], 'code': 'MN', 'continent': 'Asia', 'name': 'Mongolia', 'capital': 'Ulaanbaatar'},\n",
    "{'timezones': ['Africa/Nouakchott'], 'code': 'MR', 'continent': 'Africa', 'name': 'Mauritania', 'capital': 'Nouakchott'},\n",
    "{'timezones': ['Europe/Malta'], 'code': 'MT', 'continent': 'Europe', 'name': 'Malta', 'capital': 'Valletta'},\n",
    "{'timezones': ['Indian/Mauritius'], 'code': 'MU', 'continent': 'Africa', 'name': 'Mauritius', 'capital': 'Port Louis'},\n",
    "{'timezones': ['Indian/Maldives'], 'code': 'MV', 'continent': 'Asia', 'name': 'Maldives', 'capital': 'Mal\\xc3\\xa9'},\n",
    "{'timezones': ['Africa/Blantyre'], 'code': 'MW', 'continent': 'Africa', 'name': 'Malawi', 'capital': 'Lilongwe'},\n",
    "{'timezones': ['America/Mexico_City', 'America/Cancun', 'America/Merida', 'America/Monterrey', 'America/Mazatlan', 'America/Chihuahua', 'America/Hermosillo', 'America/Tijuana'], 'code': 'MX', 'continent': 'North America', 'name': 'Mexico', 'capital': 'Mexico City'},\n",
    "{'timezones': ['Asia/Kuala_Lumpur', 'Asia/Kuching'], 'code': 'MY', 'continent': 'Asia', 'name': 'Malaysia', 'capital': 'Kuala Lumpur'},\n",
    "{'timezones': ['Africa/Maputo'], 'code': 'MZ', 'continent': 'Africa', 'name': 'Mozambique', 'capital': 'Maputo'},\n",
    "{'timezones': ['Africa/Windhoek'], 'code': 'NA', 'continent': 'Africa', 'name': 'Namibia', 'capital': 'Windhoek'},\n",
    "{'timezones': ['Africa/Niamey'], 'code': 'NE', 'continent': 'Africa', 'name': 'Niger', 'capital': 'Niamey'},\n",
    "{'timezones': ['Africa/Lagos'], 'code': 'NG', 'continent': 'Africa', 'name': 'Nigeria', 'capital': 'Abuja'},\n",
    "{'timezones': ['America/Managua'], 'code': 'NI', 'continent': 'North America', 'name': 'Nicaragua', 'capital': 'Managua'},\n",
    "{'timezones': ['Europe/Amsterdam'], 'code': 'NL', 'continent': 'Europe', 'name': 'Kingdom of the Netherlands', 'capital': 'Amsterdam'},\n",
    "{'timezones': ['Europe/Oslo'], 'code': 'NO', 'continent': 'Europe', 'name': 'Norway', 'capital': 'Oslo'},\n",
    "{'timezones': ['Asia/Katmandu'], 'code': 'NP', 'continent': 'Asia', 'name': 'Nepal', 'capital': 'Kathmandu'},\n",
    "{'timezones': ['Pacific/Nauru'], 'code': 'NR', 'continent': 'Oceania', 'name': 'Nauru', 'capital': 'Yaren'},\n",
    "{'timezones': ['Pacific/Auckland', 'Pacific/Chatham'], 'code': 'NZ', 'continent': 'Oceania', 'name': 'New Zealand', 'capital': 'Wellington'},\n",
    "{'timezones': ['Asia/Muscat'], 'code': 'OM', 'continent': 'Asia', 'name': 'Oman', 'capital': 'Muscat'},\n",
    "{'timezones': ['America/Panama'], 'code': 'PA', 'continent': 'North America', 'name': 'Panama', 'capital': 'Panama City'},\n",
    "{'timezones': ['America/Lima'], 'code': 'PE', 'continent': 'South America', 'name': 'Peru', 'capital': 'Lima'},\n",
    "{'timezones': ['Pacific/Port_Moresby'], 'code': 'PG', 'continent': 'Oceania', 'name': 'Papua New Guinea', 'capital': 'Port Moresby'},\n",
    "{'timezones': ['Asia/Manila'], 'code': 'PH', 'continent': 'Asia', 'name': 'Philippines', 'capital': 'Manila'},\n",
    "{'timezones': ['Asia/Karachi'], 'code': 'PK', 'continent': 'Asia', 'name': 'Pakistan', 'capital': 'Islamabad'},\n",
    "{'timezones': ['Europe/Warsaw'], 'code': 'PL', 'continent': 'Europe', 'name': 'Poland', 'capital': 'Warsaw'},\n",
    "{'timezones': ['Europe/Lisbon', 'Atlantic/Madeira', 'Atlantic/Azores'], 'code': 'PT', 'continent': 'Europe', 'name': 'Portugal', 'capital': 'Lisbon'},\n",
    "{'timezones': ['Pacific/Palau'], 'code': 'PW', 'continent': 'Oceania', 'name': 'Palau', 'capital': 'Ngerulmud'},\n",
    "{'timezones': ['America/Asuncion'], 'code': 'PY', 'continent': 'South America', 'name': 'Paraguay', 'capital': 'Asunci\\xc3\\xb3n'},\n",
    "{'timezones': ['Asia/Qatar'], 'code': 'QA', 'continent': 'Asia', 'name': 'Qatar', 'capital': 'Doha'},\n",
    "{'timezones': ['Europe/Bucharest'], 'code': 'RO', 'continent': 'Europe', 'name': 'Romania', 'capital': 'Bucharest'},\n",
    "{'timezones': ['Europe/Kaliningrad', 'Europe/Moscow', 'Europe/Volgograd', 'Europe/Samara', 'Asia/Yekaterinburg', 'Asia/Omsk', 'Asia/Novosibirsk', 'Asia/Krasnoyarsk', 'Asia/Irkutsk', 'Asia/Yakutsk', 'Asia/Vladivostok', 'Asia/Sakhalin', 'Asia/Magadan', 'Asia/Kamchatka', 'Asia/Anadyr'], 'code': 'RU', 'continent': 'Europe', 'name': 'Russia', 'capital': 'Moscow'},\n",
    "{'timezones': ['Africa/Kigali'], 'code': 'RW', 'continent': 'Africa', 'name': 'Rwanda', 'capital': 'Kigali'},\n",
    "{'timezones': ['Asia/Riyadh'], 'code': 'SA', 'continent': 'Asia', 'name': 'Saudi Arabia', 'capital': 'Riyadh'},\n",
    "{'timezones': ['Pacific/Guadalcanal'], 'code': 'SB', 'continent': 'Oceania', 'name': 'Solomon Islands', 'capital': 'Honiara'},\n",
    "{'timezones': ['Indian/Mahe'], 'code': 'SC', 'continent': 'Africa', 'name': 'Seychelles', 'capital': 'Victoria'},\n",
    "{'timezones': ['Africa/Khartoum'], 'code': 'SD', 'continent': 'Africa', 'name': 'Sudan', 'capital': 'Khartoum'},\n",
    "{'timezones': ['Europe/Stockholm'], 'code': 'SE', 'continent': 'Europe', 'name': 'Sweden', 'capital': 'Stockholm'},\n",
    "{'timezones': ['Asia/Singapore'], 'code': 'SG', 'continent': 'Asia', 'name': 'Singapore', 'capital': 'Singapore'},\n",
    "{'timezones': ['Europe/Ljubljana'], 'code': 'SI', 'continent': 'Europe', 'name': 'Slovenia', 'capital': 'Ljubljana'},\n",
    "{'timezones': ['Europe/Bratislava'], 'code': 'SK', 'continent': 'Europe', 'name': 'Slovakia', 'capital': 'Bratislava'},\n",
    "{'timezones': ['Africa/Freetown'], 'code': 'SL', 'continent': 'Africa', 'name': 'Sierra Leone', 'capital': 'Freetown'},\n",
    "{'timezones': ['Europe/San_Marino'], 'code': 'SM', 'continent': 'Europe', 'name': 'San Marino', 'capital': 'San Marino'},\n",
    "{'timezones': ['Africa/Dakar'], 'code': 'SN', 'continent': 'Africa', 'name': 'Senegal', 'capital': 'Dakar'},\n",
    "{'timezones': ['Africa/Mogadishu'], 'code': 'SO', 'continent': 'Africa', 'name': 'Somalia', 'capital': 'Mogadishu'},\n",
    "{'timezones': ['America/Paramaribo'], 'code': 'SR', 'continent': 'South America', 'name': 'Suriname', 'capital': 'Paramaribo'},\n",
    "{'timezones': ['Africa/Sao_Tome'], 'code': 'ST', 'continent': 'Africa', 'name': 'S\\xc3\\xa3o Tom\\xc3\\xa9 and Pr\\xc3\\xadncipe', 'capital': 'S\\xc3\\xa3o Tom\\xc3\\xa9'},\n",
    "{'timezones': ['Asia/Damascus'], 'code': 'SY', 'continent': 'Asia', 'name': 'Syria', 'capital': 'Damascus'},\n",
    "{'timezones': ['Africa/Lome'], 'code': 'TG', 'continent': 'Africa', 'name': 'Togo', 'capital': 'Lom\\xc3\\xa9'},\n",
    "{'timezones': ['Asia/Bangkok'], 'code': 'TH', 'continent': 'Asia', 'name': 'Thailand', 'capital': 'Bangkok'},\n",
    "{'timezones': ['Asia/Dushanbe'], 'code': 'TJ', 'continent': 'Asia', 'name': 'Tajikistan', 'capital': 'Dushanbe'},\n",
    "{'timezones': ['Asia/Ashgabat'], 'code': 'TM', 'continent': 'Asia', 'name': 'Turkmenistan', 'capital': 'Ashgabat'},\n",
    "{'timezones': ['Africa/Tunis'], 'code': 'TN', 'continent': 'Africa', 'name': 'Tunisia', 'capital': 'Tunis'},\n",
    "{'timezones': ['Pacific/Tongatapu'], 'code': 'TO', 'continent': 'Oceania', 'name': 'Tonga', 'capital': 'Nuku\\xca\\xbbalofa'},\n",
    "{'timezones': ['Europe/Istanbul'], 'code': 'TR', 'continent': 'Asia', 'name': 'Turkey', 'capital': 'Ankara'},\n",
    "{'timezones': ['America/Port_of_Spain'], 'code': 'TT', 'continent': 'North America', 'name': 'Trinidad and Tobago', 'capital': 'Port of Spain'},\n",
    "{'timezones': ['Pacific/Funafuti'], 'code': 'TV', 'continent': 'Oceania', 'name': 'Tuvalu', 'capital': 'Funafuti'},\n",
    "{'timezones': ['Africa/Dar_es_Salaam'], 'code': 'TZ', 'continent': 'Africa', 'name': 'Tanzania', 'capital': 'Dodoma'},\n",
    "{'timezones': ['Europe/Kiev', 'Europe/Uzhgorod', 'Europe/Zaporozhye', 'Europe/Simferopol'], 'code': 'UA', 'continent': 'Europe', 'name': 'Ukraine', 'capital': 'Kyiv'},\n",
    "{'timezones': ['Africa/Kampala'], 'code': 'UG', 'continent': 'Africa', 'name': 'Uganda', 'capital': 'Kampala'},\n",
    "{'timezones': ['America/New_York', 'America/Detroit', 'America/Kentucky/Louisville', 'America/Kentucky/Monticello', 'America/Indiana/Indianapolis', 'America/Indiana/Marengo', 'America/Indiana/Knox', 'America/Indiana/Vevay', 'America/Chicago', 'America/Indiana/Vincennes', 'America/Indiana/Petersburg', 'America/Menominee', 'America/North_Dakota/Center', 'America/North_Dakota/New_Salem', 'America/Denver', 'America/Boise', 'America/Shiprock', 'America/Phoenix', 'America/Los_Angeles', 'America/Anchorage', 'America/Juneau', 'America/Yakutat', 'America/Nome', 'America/Adak', 'Pacific/Honolulu'], 'code': 'US', 'continent': 'North America', 'name': 'United States', 'capital': 'Washington, D.C.'},\n",
    "{'timezones': ['America/Montevideo'], 'code': 'UY', 'continent': 'South America', 'name': 'Uruguay', 'capital': 'Montevideo'},\n",
    "{'timezones': ['Asia/Samarkand', 'Asia/Tashkent'], 'code': 'UZ', 'continent': 'Asia', 'name': 'Uzbekistan', 'capital': 'Tashkent'},\n",
    "{'timezones': ['Europe/Vatican'], 'code': 'VA', 'continent': 'Europe', 'name': 'Vatican City', 'capital': 'Vatican City'},\n",
    "{'timezones': ['America/Caracas'], 'code': 'VE', 'continent': 'South America', 'name': 'Venezuela', 'capital': 'Caracas'},\n",
    "{'timezones': ['Asia/Saigon'], 'code': 'VN', 'continent': 'Asia', 'name': 'Vietnam', 'capital': 'Hanoi'},\n",
    "{'timezones': ['Pacific/Efate'], 'code': 'VU', 'continent': 'Oceania', 'name': 'Vanuatu', 'capital': 'Port Vila'},\n",
    "{'timezones': ['Asia/Aden'], 'code': 'YE', 'continent': 'Asia', 'name': 'Yemen', 'capital': \"Sana'a\"},\n",
    "{'timezones': ['Africa/Lusaka'], 'code': 'ZM', 'continent': 'Africa', 'name': 'Zambia', 'capital': 'Lusaka'},\n",
    "{'timezones': ['Africa/Harare'], 'code': 'ZW', 'continent': 'Africa', 'name': 'Zimbabwe', 'capital': 'Harare'},\n",
    "{'timezones': ['Africa/Algiers'], 'code': 'DZ', 'continent': 'Africa', 'name': 'Algeria', 'capital': 'Algiers'},\n",
    "{'timezones': ['Europe/Sarajevo'], 'code': 'BA', 'continent': 'Europe', 'name': 'Bosnia and Herzegovina', 'capital': 'Sarajevo'},\n",
    "{'timezones': ['Asia/Phnom_Penh'], 'code': 'KH', 'continent': 'Asia', 'name': 'Cambodia', 'capital': 'Phnom Penh'},\n",
    "{'timezones': ['Africa/Bangui'], 'code': 'CF', 'continent': 'Africa', 'name': 'Central African Republic', 'capital': 'Bangui'},\n",
    "{'timezones': ['Africa/Ndjamena'], 'code': 'TD', 'continent': 'Africa', 'name': 'Chad', 'capital': \"N'Djamena\"},\n",
    "{'timezones': ['Indian/Comoro'], 'code': 'KM', 'continent': 'Africa', 'name': 'Comoros', 'capital': 'Moroni'},\n",
    "{'timezones': ['Europe/Zagreb'], 'code': 'HR', 'continent': 'Europe', 'name': 'Croatia', 'capital': 'Zagreb'},\n",
    "{'timezones': ['Asia/Dili'], 'code': 'TL', 'continent': 'Asia', 'name': 'East Timor', 'capital': 'Dili'},\n",
    "{'timezones': ['America/El_Salvador'], 'code': 'SV', 'continent': 'North America', 'name': 'El Salvador', 'capital': 'San Salvador'},\n",
    "{'timezones': ['Africa/Malabo'], 'code': 'GQ', 'continent': 'Africa', 'name': 'Equatorial Guinea', 'capital': 'Malabo'},\n",
    "{'timezones': ['America/Grenada'], 'code': 'GD', 'continent': 'North America', 'name': 'Grenada', 'capital': \"St. George's\"},\n",
    "{'timezones': ['Asia/Almaty', 'Asia/Qyzylorda', 'Asia/Aqtobe', 'Asia/Aqtau', 'Asia/Oral'], 'code': 'KZ', 'continent': 'Asia', 'name': 'Kazakhstan', 'capital': 'Astana'},\n",
    "{'timezones': ['Asia/Vientiane'], 'code': 'LA', 'continent': 'Asia', 'name': 'Laos', 'capital': 'Vientiane'},\n",
    "{'timezones': ['Pacific/Truk', 'Pacific/Ponape', 'Pacific/Kosrae'], 'code': 'FM', 'continent': 'Oceania', 'name': 'Federated States of Micronesia', 'capital': 'Palikir'},\n",
    "{'timezones': ['Europe/Chisinau'], 'code': 'MD', 'continent': 'Europe', 'name': 'Moldova', 'capital': 'Chi\\xc5\\x9fin\\xc4\\x83u'},\n",
    "{'timezones': ['Europe/Monaco'], 'code': 'MC', 'continent': 'Europe', 'name': 'Monaco', 'capital': 'Monaco'},\n",
    "{'timezones': ['Europe/Podgorica'], 'code': 'ME', 'continent': 'Europe', 'name': 'Montenegro', 'capital': 'Podgorica'},\n",
    "{'timezones': ['Africa/Casablanca'], 'code': 'MA', 'continent': 'Africa', 'name': 'Morocco', 'capital': 'Rabat'},\n",
    "{'timezones': ['America/St_Kitts'], 'code': 'KN', 'continent': 'North America', 'name': 'Saint Kitts and Nevis', 'capital': 'Basseterre'},\n",
    "{'timezones': ['America/St_Lucia'], 'code': 'LC', 'continent': 'North America', 'name': 'Saint Lucia', 'capital': 'Castries'},\n",
    "{'timezones': ['America/St_Vincent'], 'code': 'VC', 'continent': 'North America', 'name': 'Saint Vincent and the Grenadines', 'capital': 'Kingstown'},\n",
    "{'timezones': ['Pacific/Apia'], 'code': 'WS', 'continent': 'Oceania', 'name': 'Samoa', 'capital': 'Apia'},\n",
    "{'timezones': ['Europe/Belgrade'], 'code': 'RS', 'continent': 'Europe', 'name': 'Serbia', 'capital': 'Belgrade'},\n",
    "{'timezones': ['Africa/Johannesburg'], 'code': 'ZA', 'continent': 'Africa', 'name': 'South Africa', 'capital': 'Pretoria'},\n",
    "{'timezones': ['Europe/Madrid', 'Africa/Ceuta', 'Atlantic/Canary'], 'code': 'ES', 'continent': 'Europe', 'name': 'Spain', 'capital': 'Madrid'},\n",
    "{'timezones': ['Asia/Colombo'], 'code': 'LK', 'continent': 'Asia', 'name': 'Sri Lanka', 'capital': 'Sri Jayewardenepura Kotte'},\n",
    "{'timezones': ['Africa/Mbabane'], 'code': 'SZ', 'continent': 'Africa', 'name': 'Swaziland', 'capital': 'Mbabane'},\n",
    "{'timezones': ['Europe/Zurich'], 'code': 'CH', 'continent': 'Europe', 'name': 'Switzerland', 'capital': 'Bern'},\n",
    "{'timezones': ['Asia/Dubai'], 'code': 'AE', 'continent': 'Asia', 'name': 'United Arab Emirates', 'capital': 'Abu Dhabi'},\n",
    "{'timezones': ['Europe/London'], 'code': 'GB', 'continent': 'Europe', 'name': 'United Kingdom', 'capital': 'London'},\n",
    "{'timezones': ['Europe/Moscow'], 'code': 'USR', 'continent': 'Europe', 'name': 'USSR', 'capital': 'Moscow'}\n",
    "]\n"
   ]
  },
  {
   "cell_type": "code",
   "execution_count": 4,
   "id": "a10fbfd0",
   "metadata": {
    "execution": {
     "iopub.execute_input": "2021-12-21T09:57:49.915720Z",
     "iopub.status.busy": "2021-12-21T09:57:49.912037Z",
     "iopub.status.idle": "2021-12-21T09:57:49.918492Z",
     "shell.execute_reply": "2021-12-21T09:57:49.919170Z",
     "shell.execute_reply.started": "2021-12-21T09:54:44.201275Z"
    },
    "papermill": {
     "duration": 0.035824,
     "end_time": "2021-12-21T09:57:49.919362",
     "exception": false,
     "start_time": "2021-12-21T09:57:49.883538",
     "status": "completed"
    },
    "tags": []
   },
   "outputs": [],
   "source": [
    "#dataframe for countries dictionary\n",
    "countries = pd.DataFrame.from_dict(countries)"
   ]
  },
  {
   "cell_type": "code",
   "execution_count": 5,
   "id": "df874ba9",
   "metadata": {
    "execution": {
     "iopub.execute_input": "2021-12-21T09:57:49.985930Z",
     "iopub.status.busy": "2021-12-21T09:57:49.985293Z",
     "iopub.status.idle": "2021-12-21T09:57:49.992580Z",
     "shell.execute_reply": "2021-12-21T09:57:49.993089Z",
     "shell.execute_reply.started": "2021-12-21T09:54:44.216511Z"
    },
    "papermill": {
     "duration": 0.046012,
     "end_time": "2021-12-21T09:57:49.993255",
     "exception": false,
     "start_time": "2021-12-21T09:57:49.947243",
     "status": "completed"
    },
    "tags": []
   },
   "outputs": [],
   "source": [
    "countries = countries[['code','continent']]"
   ]
  },
  {
   "cell_type": "code",
   "execution_count": 6,
   "id": "a1342475",
   "metadata": {
    "execution": {
     "iopub.execute_input": "2021-12-21T09:57:50.042724Z",
     "iopub.status.busy": "2021-12-21T09:57:50.038150Z",
     "iopub.status.idle": "2021-12-21T09:57:50.043413Z",
     "shell.execute_reply": "2021-12-21T09:57:50.043836Z",
     "shell.execute_reply.started": "2021-12-21T09:54:44.239079Z"
    },
    "papermill": {
     "duration": 0.031789,
     "end_time": "2021-12-21T09:57:50.044019",
     "exception": false,
     "start_time": "2021-12-21T09:57:50.012230",
     "status": "completed"
    },
    "tags": []
   },
   "outputs": [],
   "source": [
    "countries.rename(columns={'continent':'Continent', 'code':'Code'},inplace=True)"
   ]
  },
  {
   "cell_type": "code",
   "execution_count": 7,
   "id": "168a05e5",
   "metadata": {
    "execution": {
     "iopub.execute_input": "2021-12-21T09:57:50.098649Z",
     "iopub.status.busy": "2021-12-21T09:57:50.097930Z",
     "iopub.status.idle": "2021-12-21T09:57:50.146368Z",
     "shell.execute_reply": "2021-12-21T09:57:50.146859Z",
     "shell.execute_reply.started": "2021-12-21T09:54:44.248366Z"
    },
    "papermill": {
     "duration": 0.083584,
     "end_time": "2021-12-21T09:57:50.147054",
     "exception": false,
     "start_time": "2021-12-21T09:57:50.063470",
     "status": "completed"
    },
    "tags": []
   },
   "outputs": [],
   "source": [
    "#merging dfs to create Continent column\n",
    "merged = pd.merge(medals, countries, how='left', left_on='country_code', right_on='Code')"
   ]
  },
  {
   "cell_type": "code",
   "execution_count": 8,
   "id": "263f0431",
   "metadata": {
    "execution": {
     "iopub.execute_input": "2021-12-21T09:57:50.198649Z",
     "iopub.status.busy": "2021-12-21T09:57:50.197540Z",
     "iopub.status.idle": "2021-12-21T09:57:50.293760Z",
     "shell.execute_reply": "2021-12-21T09:57:50.293221Z",
     "shell.execute_reply.started": "2021-12-21T09:54:44.312635Z"
    },
    "papermill": {
     "duration": 0.128746,
     "end_time": "2021-12-21T09:57:50.293893",
     "exception": false,
     "start_time": "2021-12-21T09:57:50.165147",
     "status": "completed"
    },
    "tags": []
   },
   "outputs": [],
   "source": [
    "speedskating = merged[merged['discipline_title'] == 'Speed skating']"
   ]
  },
  {
   "cell_type": "code",
   "execution_count": 9,
   "id": "33a012d8",
   "metadata": {
    "execution": {
     "iopub.execute_input": "2021-12-21T09:57:50.336027Z",
     "iopub.status.busy": "2021-12-21T09:57:50.334739Z",
     "iopub.status.idle": "2021-12-21T09:57:50.338364Z",
     "shell.execute_reply": "2021-12-21T09:57:50.338930Z",
     "shell.execute_reply.started": "2021-12-21T09:54:44.418845Z"
    },
    "papermill": {
     "duration": 0.027482,
     "end_time": "2021-12-21T09:57:50.339127",
     "exception": false,
     "start_time": "2021-12-21T09:57:50.311645",
     "status": "completed"
    },
    "tags": []
   },
   "outputs": [],
   "source": [
    "#creating df with relevant columns\n",
    "speedskating = speedskating[['event_title',\n",
    "                             'slug_game',\n",
    "                             'medal_type',\n",
    "                             'rank_position',\n",
    "                             'country_name',\n",
    "                             'country_3_letter_code',\n",
    "                             'athlete_full_name',\n",
    "                             'Continent']]"
   ]
  },
  {
   "cell_type": "code",
   "execution_count": 10,
   "id": "fa6057f7",
   "metadata": {
    "execution": {
     "iopub.execute_input": "2021-12-21T09:57:50.377143Z",
     "iopub.status.busy": "2021-12-21T09:57:50.376556Z",
     "iopub.status.idle": "2021-12-21T09:57:50.391124Z",
     "shell.execute_reply": "2021-12-21T09:57:50.391655Z",
     "shell.execute_reply.started": "2021-12-21T09:54:44.426449Z"
    },
    "papermill": {
     "duration": 0.035296,
     "end_time": "2021-12-21T09:57:50.391832",
     "exception": false,
     "start_time": "2021-12-21T09:57:50.356536",
     "status": "completed"
    },
    "tags": []
   },
   "outputs": [],
   "source": [
    "#extracting host city\n",
    "speedskating['Host City'] = speedskating['slug_game'].str.rsplit('-', 1).str[0]"
   ]
  },
  {
   "cell_type": "code",
   "execution_count": 11,
   "id": "c6f1b0fd",
   "metadata": {
    "execution": {
     "iopub.execute_input": "2021-12-21T09:57:50.430545Z",
     "iopub.status.busy": "2021-12-21T09:57:50.429650Z",
     "iopub.status.idle": "2021-12-21T09:57:50.436650Z",
     "shell.execute_reply": "2021-12-21T09:57:50.437229Z",
     "shell.execute_reply.started": "2021-12-21T09:54:44.451595Z"
    },
    "papermill": {
     "duration": 0.027956,
     "end_time": "2021-12-21T09:57:50.437393",
     "exception": false,
     "start_time": "2021-12-21T09:57:50.409437",
     "status": "completed"
    },
    "tags": []
   },
   "outputs": [],
   "source": [
    "speedskating['Host City'] = speedskating['Host City'].str.title()"
   ]
  },
  {
   "cell_type": "code",
   "execution_count": 12,
   "id": "fefbe0a7",
   "metadata": {
    "execution": {
     "iopub.execute_input": "2021-12-21T09:57:50.476537Z",
     "iopub.status.busy": "2021-12-21T09:57:50.475616Z",
     "iopub.status.idle": "2021-12-21T09:57:50.482617Z",
     "shell.execute_reply": "2021-12-21T09:57:50.483064Z",
     "shell.execute_reply.started": "2021-12-21T09:54:44.461089Z"
    },
    "papermill": {
     "duration": 0.028594,
     "end_time": "2021-12-21T09:57:50.483249",
     "exception": false,
     "start_time": "2021-12-21T09:57:50.454655",
     "status": "completed"
    },
    "tags": []
   },
   "outputs": [],
   "source": [
    "speedskating['medal_type'] = speedskating['medal_type'].str.title()"
   ]
  },
  {
   "cell_type": "code",
   "execution_count": 13,
   "id": "398169ad",
   "metadata": {
    "execution": {
     "iopub.execute_input": "2021-12-21T09:57:50.521127Z",
     "iopub.status.busy": "2021-12-21T09:57:50.520533Z",
     "iopub.status.idle": "2021-12-21T09:57:50.527165Z",
     "shell.execute_reply": "2021-12-21T09:57:50.527593Z",
     "shell.execute_reply.started": "2021-12-21T09:54:44.472847Z"
    },
    "papermill": {
     "duration": 0.027132,
     "end_time": "2021-12-21T09:57:50.527761",
     "exception": false,
     "start_time": "2021-12-21T09:57:50.500629",
     "status": "completed"
    },
    "tags": []
   },
   "outputs": [],
   "source": [
    "#extracting year of olympics\n",
    "speedskating['Year'] = speedskating['slug_game'].str[-4:].astype(int)"
   ]
  },
  {
   "cell_type": "code",
   "execution_count": 14,
   "id": "e55d581c",
   "metadata": {
    "execution": {
     "iopub.execute_input": "2021-12-21T09:57:50.568387Z",
     "iopub.status.busy": "2021-12-21T09:57:50.567379Z",
     "iopub.status.idle": "2021-12-21T09:57:50.571134Z",
     "shell.execute_reply": "2021-12-21T09:57:50.571525Z",
     "shell.execute_reply.started": "2021-12-21T09:54:44.484792Z"
    },
    "papermill": {
     "duration": 0.026508,
     "end_time": "2021-12-21T09:57:50.571693",
     "exception": false,
     "start_time": "2021-12-21T09:57:50.545185",
     "status": "completed"
    },
    "tags": []
   },
   "outputs": [],
   "source": [
    "#dropping column\n",
    "speedskating.drop(columns='slug_game', inplace=True)"
   ]
  },
  {
   "cell_type": "code",
   "execution_count": 15,
   "id": "c0654e97",
   "metadata": {
    "execution": {
     "iopub.execute_input": "2021-12-21T09:57:50.611380Z",
     "iopub.status.busy": "2021-12-21T09:57:50.610494Z",
     "iopub.status.idle": "2021-12-21T09:57:50.617998Z",
     "shell.execute_reply": "2021-12-21T09:57:50.617408Z",
     "shell.execute_reply.started": "2021-12-21T09:54:44.495320Z"
    },
    "papermill": {
     "duration": 0.028817,
     "end_time": "2021-12-21T09:57:50.618133",
     "exception": false,
     "start_time": "2021-12-21T09:57:50.589316",
     "status": "completed"
    },
    "tags": []
   },
   "outputs": [],
   "source": [
    "speedskating = speedskating[speedskating['medal_type'].notna()]"
   ]
  },
  {
   "cell_type": "code",
   "execution_count": 16,
   "id": "108f449f",
   "metadata": {
    "execution": {
     "iopub.execute_input": "2021-12-21T09:57:50.658701Z",
     "iopub.status.busy": "2021-12-21T09:57:50.658083Z",
     "iopub.status.idle": "2021-12-21T09:57:50.660544Z",
     "shell.execute_reply": "2021-12-21T09:57:50.660075Z",
     "shell.execute_reply.started": "2021-12-21T09:54:44.505168Z"
    },
    "papermill": {
     "duration": 0.025111,
     "end_time": "2021-12-21T09:57:50.660674",
     "exception": false,
     "start_time": "2021-12-21T09:57:50.635563",
     "status": "completed"
    },
    "tags": []
   },
   "outputs": [],
   "source": [
    "#cleaning up naming\n",
    "speedskating.rename(columns={\n",
    "    'event_title':'Event',\n",
    "    'medal_type': 'Medal',\n",
    "    'rank_position': 'Rank',\n",
    "    'country_name': 'Country',\n",
    "    'country_3_letter_code': 'Country_Code',\n",
    "    'athlete_full_name': 'Athlete',\n",
    "    },inplace=True)"
   ]
  },
  {
   "cell_type": "code",
   "execution_count": 17,
   "id": "f1447213",
   "metadata": {
    "execution": {
     "iopub.execute_input": "2021-12-21T09:57:50.699613Z",
     "iopub.status.busy": "2021-12-21T09:57:50.698964Z",
     "iopub.status.idle": "2021-12-21T09:57:50.703681Z",
     "shell.execute_reply": "2021-12-21T09:57:50.704207Z",
     "shell.execute_reply.started": "2021-12-21T09:54:44.515784Z"
    },
    "papermill": {
     "duration": 0.026359,
     "end_time": "2021-12-21T09:57:50.704375",
     "exception": false,
     "start_time": "2021-12-21T09:57:50.678016",
     "status": "completed"
    },
    "tags": []
   },
   "outputs": [],
   "source": [
    "#accounting for Team events not having individual athlete names by substituting it with a team name\n",
    "speedskating['Athlete'].fillna('Team ' + speedskating['Country'], inplace=True)"
   ]
  },
  {
   "cell_type": "code",
   "execution_count": 18,
   "id": "87bad1f3",
   "metadata": {
    "execution": {
     "iopub.execute_input": "2021-12-21T09:57:50.741949Z",
     "iopub.status.busy": "2021-12-21T09:57:50.741338Z",
     "iopub.status.idle": "2021-12-21T09:57:50.745648Z",
     "shell.execute_reply": "2021-12-21T09:57:50.746121Z",
     "shell.execute_reply.started": "2021-12-21T09:54:44.526765Z"
    },
    "papermill": {
     "duration": 0.024647,
     "end_time": "2021-12-21T09:57:50.746286",
     "exception": false,
     "start_time": "2021-12-21T09:57:50.721639",
     "status": "completed"
    },
    "tags": []
   },
   "outputs": [],
   "source": [
    "#cleaning up categorization of event names\n",
    "to_sub = {\n",
    "    'Men’s 5000m':'5000m men',\n",
    "    'Ladies’ 1000m ': '1000m women',\n",
    "    'Ladies’ 5000m': '5000m women',\n",
    "    'Men’s 1000m': '1000m men',\n",
    "    'Ladies’ Team Pursuit': 'Team pursuit women',\n",
    "    'Ladies’ 3000m': '3000m women',\n",
    "    'Men’s 1500m': '1500m men',\n",
    "    'Men’s 10000m': '10000m men',\n",
    "    'Men’s Team Pursuit': 'Team pursuit men',\n",
    "    'Ladies’ 500m': '500m women',\n",
    "    'Men’s 500m': '500m men',\n",
    "    'Ladies’ 1500m': '1500m women',\n",
    "    '2x500m women': '1000m women',\n",
    "    '2x500m men': '1000m men',\n",
    "    'Ladies’ 1000m': '1000m women',\n",
    "    'combined 4 events men': 'Team pursuit men',\n",
    "    'Ladies’ Mass Start': 'Mass start women',\n",
    "    'Men’s Mass Start': 'Mass start men',\n",
    "    }"
   ]
  },
  {
   "cell_type": "code",
   "execution_count": 19,
   "id": "5a3700ca",
   "metadata": {
    "execution": {
     "iopub.execute_input": "2021-12-21T09:57:50.784125Z",
     "iopub.status.busy": "2021-12-21T09:57:50.783525Z",
     "iopub.status.idle": "2021-12-21T09:57:50.801471Z",
     "shell.execute_reply": "2021-12-21T09:57:50.801914Z",
     "shell.execute_reply.started": "2021-12-21T09:54:44.537660Z"
    },
    "papermill": {
     "duration": 0.037968,
     "end_time": "2021-12-21T09:57:50.802115",
     "exception": false,
     "start_time": "2021-12-21T09:57:50.764147",
     "status": "completed"
    },
    "tags": []
   },
   "outputs": [],
   "source": [
    "speedskating['Event'].replace(to_sub, regex=True, inplace=True)"
   ]
  },
  {
   "cell_type": "code",
   "execution_count": 20,
   "id": "34d0254e",
   "metadata": {
    "execution": {
     "iopub.execute_input": "2021-12-21T09:57:50.840119Z",
     "iopub.status.busy": "2021-12-21T09:57:50.839477Z",
     "iopub.status.idle": "2021-12-21T09:57:50.843668Z",
     "shell.execute_reply": "2021-12-21T09:57:50.844160Z",
     "shell.execute_reply.started": "2021-12-21T09:54:44.580767Z"
    },
    "papermill": {
     "duration": 0.024963,
     "end_time": "2021-12-21T09:57:50.844342",
     "exception": false,
     "start_time": "2021-12-21T09:57:50.819379",
     "status": "completed"
    },
    "tags": []
   },
   "outputs": [],
   "source": [
    "#accounting for missing continent names\n",
    "#the main reason is that the country no longer exists and is not in dict (USSR, German Empire, etc.)\n",
    "temp_cont = speedskating[speedskating['Continent'].isna()]"
   ]
  },
  {
   "cell_type": "code",
   "execution_count": 21,
   "id": "813089a2",
   "metadata": {
    "execution": {
     "iopub.execute_input": "2021-12-21T09:57:50.882914Z",
     "iopub.status.busy": "2021-12-21T09:57:50.882326Z",
     "iopub.status.idle": "2021-12-21T09:57:50.891760Z",
     "shell.execute_reply": "2021-12-21T09:57:50.892374Z",
     "shell.execute_reply.started": "2021-12-21T09:54:44.587330Z"
    },
    "papermill": {
     "duration": 0.030352,
     "end_time": "2021-12-21T09:57:50.892547",
     "exception": false,
     "start_time": "2021-12-21T09:57:50.862195",
     "status": "completed"
    },
    "tags": []
   },
   "outputs": [
    {
     "name": "stderr",
     "output_type": "stream",
     "text": [
      "/opt/conda/lib/python3.7/site-packages/pandas/core/frame.py:5182: SettingWithCopyWarning: \n",
      "A value is trying to be set on a copy of a slice from a DataFrame\n",
      "\n",
      "See the caveats in the documentation: https://pandas.pydata.org/pandas-docs/stable/user_guide/indexing.html#returning-a-view-versus-a-copy\n",
      "  downcast=downcast,\n"
     ]
    }
   ],
   "source": [
    "#luckily all missing continents/country are in Europe - which makes filling them easy\n",
    "temp_cont.fillna('Europe', inplace=True)"
   ]
  },
  {
   "cell_type": "code",
   "execution_count": 22,
   "id": "6cfe035a",
   "metadata": {
    "execution": {
     "iopub.execute_input": "2021-12-21T09:57:50.933301Z",
     "iopub.status.busy": "2021-12-21T09:57:50.931633Z",
     "iopub.status.idle": "2021-12-21T09:57:50.939561Z",
     "shell.execute_reply": "2021-12-21T09:57:50.940036Z",
     "shell.execute_reply.started": "2021-12-21T09:54:44.601812Z"
    },
    "papermill": {
     "duration": 0.029742,
     "end_time": "2021-12-21T09:57:50.940203",
     "exception": false,
     "start_time": "2021-12-21T09:57:50.910461",
     "status": "completed"
    },
    "tags": []
   },
   "outputs": [],
   "source": [
    "speedskating[speedskating['Continent'].isna()] = temp_cont"
   ]
  },
  {
   "cell_type": "code",
   "execution_count": 23,
   "id": "b2690da7",
   "metadata": {
    "execution": {
     "iopub.execute_input": "2021-12-21T09:57:50.986268Z",
     "iopub.status.busy": "2021-12-21T09:57:50.985510Z",
     "iopub.status.idle": "2021-12-21T09:57:50.988684Z",
     "shell.execute_reply": "2021-12-21T09:57:50.989161Z",
     "shell.execute_reply.started": "2021-12-21T09:54:44.613658Z"
    },
    "papermill": {
     "duration": 0.03168,
     "end_time": "2021-12-21T09:57:50.989325",
     "exception": false,
     "start_time": "2021-12-21T09:57:50.957645",
     "status": "completed"
    },
    "tags": []
   },
   "outputs": [
    {
     "data": {
      "text/plain": [
       "Event           0\n",
       "Medal           0\n",
       "Rank            0\n",
       "Country         0\n",
       "Country_Code    0\n",
       "Athlete         0\n",
       "Continent       0\n",
       "Host City       0\n",
       "Year            0\n",
       "dtype: int64"
      ]
     },
     "execution_count": 23,
     "metadata": {},
     "output_type": "execute_result"
    }
   ],
   "source": [
    "speedskating.isna().sum()"
   ]
  },
  {
   "cell_type": "code",
   "execution_count": 24,
   "id": "164df612",
   "metadata": {
    "execution": {
     "iopub.execute_input": "2021-12-21T09:57:51.029715Z",
     "iopub.status.busy": "2021-12-21T09:57:51.029155Z",
     "iopub.status.idle": "2021-12-21T09:57:51.042266Z",
     "shell.execute_reply": "2021-12-21T09:57:51.042676Z",
     "shell.execute_reply.started": "2021-12-21T09:54:44.624399Z"
    },
    "papermill": {
     "duration": 0.035817,
     "end_time": "2021-12-21T09:57:51.042854",
     "exception": false,
     "start_time": "2021-12-21T09:57:51.007037",
     "status": "completed"
    },
    "tags": []
   },
   "outputs": [
    {
     "data": {
      "text/html": [
       "<div>\n",
       "<style scoped>\n",
       "    .dataframe tbody tr th:only-of-type {\n",
       "        vertical-align: middle;\n",
       "    }\n",
       "\n",
       "    .dataframe tbody tr th {\n",
       "        vertical-align: top;\n",
       "    }\n",
       "\n",
       "    .dataframe thead th {\n",
       "        text-align: right;\n",
       "    }\n",
       "</style>\n",
       "<table border=\"1\" class=\"dataframe\">\n",
       "  <thead>\n",
       "    <tr style=\"text-align: right;\">\n",
       "      <th></th>\n",
       "      <th>Event</th>\n",
       "      <th>Medal</th>\n",
       "      <th>Rank</th>\n",
       "      <th>Country</th>\n",
       "      <th>Country_Code</th>\n",
       "      <th>Athlete</th>\n",
       "      <th>Continent</th>\n",
       "      <th>Host City</th>\n",
       "      <th>Year</th>\n",
       "    </tr>\n",
       "  </thead>\n",
       "  <tbody>\n",
       "    <tr>\n",
       "      <th>6935</th>\n",
       "      <td>5000m men</td>\n",
       "      <td>Gold</td>\n",
       "      <td>1</td>\n",
       "      <td>Netherlands</td>\n",
       "      <td>NED</td>\n",
       "      <td>Sven KRAMER</td>\n",
       "      <td>Europe</td>\n",
       "      <td>Pyeongchang</td>\n",
       "      <td>2018</td>\n",
       "    </tr>\n",
       "    <tr>\n",
       "      <th>6936</th>\n",
       "      <td>5000m men</td>\n",
       "      <td>Silver</td>\n",
       "      <td>2</td>\n",
       "      <td>Canada</td>\n",
       "      <td>CAN</td>\n",
       "      <td>Ted-Jan BLOEMEN</td>\n",
       "      <td>North America</td>\n",
       "      <td>Pyeongchang</td>\n",
       "      <td>2018</td>\n",
       "    </tr>\n",
       "    <tr>\n",
       "      <th>6937</th>\n",
       "      <td>5000m men</td>\n",
       "      <td>Bronze</td>\n",
       "      <td>3</td>\n",
       "      <td>Norway</td>\n",
       "      <td>NOR</td>\n",
       "      <td>Sverre Lunde PEDERSEN</td>\n",
       "      <td>Europe</td>\n",
       "      <td>Pyeongchang</td>\n",
       "      <td>2018</td>\n",
       "    </tr>\n",
       "    <tr>\n",
       "      <th>6957</th>\n",
       "      <td>Mass start women</td>\n",
       "      <td>Gold</td>\n",
       "      <td>1</td>\n",
       "      <td>Japan</td>\n",
       "      <td>JPN</td>\n",
       "      <td>Nana TAKAGI</td>\n",
       "      <td>Asia</td>\n",
       "      <td>Pyeongchang</td>\n",
       "      <td>2018</td>\n",
       "    </tr>\n",
       "    <tr>\n",
       "      <th>6958</th>\n",
       "      <td>Mass start women</td>\n",
       "      <td>Silver</td>\n",
       "      <td>2</td>\n",
       "      <td>Republic of Korea</td>\n",
       "      <td>KOR</td>\n",
       "      <td>Bo Reum KIM</td>\n",
       "      <td>Asia</td>\n",
       "      <td>Pyeongchang</td>\n",
       "      <td>2018</td>\n",
       "    </tr>\n",
       "  </tbody>\n",
       "</table>\n",
       "</div>"
      ],
      "text/plain": [
       "                 Event   Medal Rank            Country Country_Code  \\\n",
       "6935         5000m men    Gold    1        Netherlands          NED   \n",
       "6936         5000m men  Silver    2             Canada          CAN   \n",
       "6937         5000m men  Bronze    3             Norway          NOR   \n",
       "6957  Mass start women    Gold    1              Japan          JPN   \n",
       "6958  Mass start women  Silver    2  Republic of Korea          KOR   \n",
       "\n",
       "                    Athlete      Continent    Host City  Year  \n",
       "6935            Sven KRAMER         Europe  Pyeongchang  2018  \n",
       "6936        Ted-Jan BLOEMEN  North America  Pyeongchang  2018  \n",
       "6937  Sverre Lunde PEDERSEN         Europe  Pyeongchang  2018  \n",
       "6957            Nana TAKAGI           Asia  Pyeongchang  2018  \n",
       "6958            Bo Reum KIM           Asia  Pyeongchang  2018  "
      ]
     },
     "execution_count": 24,
     "metadata": {},
     "output_type": "execute_result"
    }
   ],
   "source": [
    "speedskating.head()"
   ]
  },
  {
   "cell_type": "code",
   "execution_count": 25,
   "id": "bebabdf7",
   "metadata": {
    "execution": {
     "iopub.execute_input": "2021-12-21T09:57:51.083096Z",
     "iopub.status.busy": "2021-12-21T09:57:51.082192Z",
     "iopub.status.idle": "2021-12-21T09:57:51.085791Z",
     "shell.execute_reply": "2021-12-21T09:57:51.086274Z",
     "shell.execute_reply.started": "2021-12-21T09:54:44.655698Z"
    },
    "papermill": {
     "duration": 0.02513,
     "end_time": "2021-12-21T09:57:51.086440",
     "exception": false,
     "start_time": "2021-12-21T09:57:51.061310",
     "status": "completed"
    },
    "tags": []
   },
   "outputs": [],
   "source": [
    "#resetting index\n",
    "speedskating.reset_index(drop=True, inplace=True)"
   ]
  },
  {
   "cell_type": "code",
   "execution_count": 26,
   "id": "f5f74dc3",
   "metadata": {
    "execution": {
     "iopub.execute_input": "2021-12-21T09:57:51.127592Z",
     "iopub.status.busy": "2021-12-21T09:57:51.127039Z",
     "iopub.status.idle": "2021-12-21T09:57:51.133904Z",
     "shell.execute_reply": "2021-12-21T09:57:51.134392Z",
     "shell.execute_reply.started": "2021-12-21T09:54:44.665075Z"
    },
    "papermill": {
     "duration": 0.029742,
     "end_time": "2021-12-21T09:57:51.134577",
     "exception": false,
     "start_time": "2021-12-21T09:57:51.104835",
     "status": "completed"
    },
    "tags": []
   },
   "outputs": [],
   "source": [
    "#output df\n",
    "speedskating.to_csv('./speedskating.csv', index=False)"
   ]
  }
 ],
 "metadata": {
  "kernelspec": {
   "display_name": "Python 3",
   "language": "python",
   "name": "python3"
  },
  "language_info": {
   "codemirror_mode": {
    "name": "ipython",
    "version": 3
   },
   "file_extension": ".py",
   "mimetype": "text/x-python",
   "name": "python",
   "nbconvert_exporter": "python",
   "pygments_lexer": "ipython3",
   "version": "3.7.12"
  },
  "papermill": {
   "default_parameters": {},
   "duration": 12.400653,
   "end_time": "2021-12-21T09:57:51.761822",
   "environment_variables": {},
   "exception": null,
   "input_path": "__notebook__.ipynb",
   "output_path": "__notebook__.ipynb",
   "parameters": {},
   "start_time": "2021-12-21T09:57:39.361169",
   "version": "2.3.3"
  }
 },
 "nbformat": 4,
 "nbformat_minor": 5
}
